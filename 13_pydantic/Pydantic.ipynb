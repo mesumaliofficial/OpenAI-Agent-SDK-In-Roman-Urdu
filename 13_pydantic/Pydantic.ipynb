{
  "nbformat": 4,
  "nbformat_minor": 0,
  "metadata": {
    "colab": {
      "provenance": []
    },
    "kernelspec": {
      "name": "python3",
      "display_name": "Python 3"
    },
    "language_info": {
      "name": "python"
    }
  },
  "cells": [
    {
      "cell_type": "markdown",
      "source": [
        "## 🔹 **Pydantic**"
      ],
      "metadata": {
        "id": "XHio5xMSRUwJ"
      }
    },
    {
      "cell_type": "markdown",
      "source": [
        "### **🔸Pydantic BaseModel**\n",
        "**Example => 01:** Simple class inherit with BaseModel ans strict rules"
      ],
      "metadata": {
        "id": "gevE7PuXRakb"
      }
    },
    {
      "cell_type": "code",
      "execution_count": 5,
      "metadata": {
        "colab": {
          "base_uri": "https://localhost:8080/"
        },
        "id": "TVsIE1SSROmw",
        "outputId": "4b3fc5e1-d748-4191-f4c2-20517c9d726c"
      },
      "outputs": [
        {
          "output_type": "stream",
          "name": "stdout",
          "text": [
            "1 validation error for User\n",
            "age\n",
            "  Input should be a valid integer [type=int_type, input_value='18', input_type=str]\n",
            "    For further information visit https://errors.pydantic.dev/2.11/v/int_type\n"
          ]
        }
      ],
      "source": [
        "from pydantic import BaseModel, StrictStr, StrictInt, StrictBool\n",
        "\n",
        "class User(BaseModel):\n",
        "  name: StrictStr\n",
        "  age: StrictInt\n",
        "  is_active: StrictBool\n",
        "\n",
        "try:\n",
        "  data2 = User(name=\"Mesum\", age=\"18\", is_active=False)\n",
        "  print(data2)\n",
        "except Exception as e:\n",
        "  print(e)"
      ]
    },
    {
      "cell_type": "markdown",
      "source": [
        "### **🔸Pydantic BaseModel**\n",
        "**Example => 02:** Data Parsing \"automatic type correct\""
      ],
      "metadata": {
        "id": "x3iX3-B9SoAM"
      }
    },
    {
      "cell_type": "code",
      "source": [
        "from pydantic import BaseModel\n",
        "\n",
        "class User(BaseModel):\n",
        "  name: str\n",
        "  age: int\n",
        "  is_active: bool\n",
        "\n",
        "try:\n",
        "  data2 = User(name=\"Mesum\", age=\"18\", is_active=False)\n",
        "  print(data2)\n",
        "except Exception as e:\n",
        "  print(e)"
      ],
      "metadata": {
        "colab": {
          "base_uri": "https://localhost:8080/"
        },
        "id": "8q0bYiqsSyQk",
        "outputId": "beb01357-0fc0-475c-face-45141979b4d3"
      },
      "execution_count": 6,
      "outputs": [
        {
          "output_type": "stream",
          "name": "stdout",
          "text": [
            "name='Mesum' age=18 is_active=False\n"
          ]
        }
      ]
    },
    {
      "cell_type": "markdown",
      "source": [
        "### **🔸Pydantic BaseModel**\n",
        "**Example => 03:** Required and Optional"
      ],
      "metadata": {
        "id": "8FRbHE4oS4oW"
      }
    },
    {
      "cell_type": "code",
      "source": [
        "from pydantic import BaseModel\n",
        "from typing import Optional\n",
        "\n",
        "class User(BaseModel):\n",
        "  name: str # Required\n",
        "  age: int  # Required\n",
        "  is_active: bool # Required\n",
        "  email: Optional[str] = None # Optional\n",
        "\n",
        "data1 = User(name=\"Mesum\", age=18, is_active= True)\n",
        "print(data1)"
      ],
      "metadata": {
        "colab": {
          "base_uri": "https://localhost:8080/"
        },
        "id": "lu3_s4ouUFZ2",
        "outputId": "01fdc456-aabd-42b8-9490-d4dc2dc4118e"
      },
      "execution_count": 7,
      "outputs": [
        {
          "output_type": "stream",
          "name": "stdout",
          "text": [
            "name='Mesum' age=18 is_active=True email=None\n"
          ]
        }
      ]
    },
    {
      "cell_type": "markdown",
      "source": [
        "### **🔸Pydantic BaseModel & Enums**\n",
        "**Example => 04:** Fixed choices"
      ],
      "metadata": {
        "id": "C8VryYP-X0dX"
      }
    },
    {
      "cell_type": "code",
      "source": [
        "from pydantic import BaseModel\n",
        "from enum import Enum\n",
        "\n",
        "class UnitType(str, Enum):\n",
        "  VANILLA = \"Vanilla\"\n",
        "  CHOCOLATE = \"Chocolate\"\n",
        "  STRAWBERRY = \"Strawberry\"\n",
        "\n",
        "\n",
        "class IceCream(BaseModel):\n",
        "  flavour: UnitType\n",
        "  price: float\n",
        "  size: str\n",
        "\n",
        "icecream1 = IceCream(flavour=UnitType.VANILLA, price=100, size=\"small\")\n",
        "# print(icecream1)\n",
        "print(icecream1.model_dump_json())"
      ],
      "metadata": {
        "colab": {
          "base_uri": "https://localhost:8080/"
        },
        "id": "9L8u9Tu4X8JZ",
        "outputId": "dd17d188-360f-4114-cd83-3c1756af9d04"
      },
      "execution_count": 13,
      "outputs": [
        {
          "output_type": "stream",
          "name": "stdout",
          "text": [
            "{\"flavour\":\"Vanilla\",\"price\":100.0,\"size\":\"small\"}\n"
          ]
        }
      ]
    },
    {
      "cell_type": "markdown",
      "source": [
        "### **🔸Pydantic BaseModel & Feild**\n",
        "**Example => 05:** Default Factory"
      ],
      "metadata": {
        "id": "Pfvi5ciIeo6o"
      }
    },
    {
      "cell_type": "code",
      "source": [
        "from pydantic import BaseModel, Field\n",
        "from typing import List\n",
        "\n",
        "class TaskSet(BaseModel):\n",
        "  owner_name: str\n",
        "  tasks: List[str] = Field(default_factory=list)\n",
        "\n",
        "task_set1 = TaskSet(owner_name=\"Mesum\")\n",
        "task_set2 = TaskSet(owner_name=\"yaram\")\n",
        "\n",
        "task_set1.tasks.append(\"Reserch on pydantic\")\n",
        "\n",
        "print(task_set1)\n",
        "print(task_set2)"
      ],
      "metadata": {
        "colab": {
          "base_uri": "https://localhost:8080/"
        },
        "id": "FTicacyCe3DE",
        "outputId": "c54e7f93-3550-4208-ce6d-fa7bcaf7bfaf"
      },
      "execution_count": 16,
      "outputs": [
        {
          "output_type": "stream",
          "name": "stdout",
          "text": [
            "owner_name='Mesum' tasks=['Reserch on pydantic']\n",
            "owner_name='yaram' tasks=[]\n"
          ]
        }
      ]
    }
  ]
}